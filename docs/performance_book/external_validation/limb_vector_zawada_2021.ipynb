{
 "cells": [
  {
   "cell_type": "markdown",
   "metadata": {},
   "source": [
    "# Limb Vector (Zawada et. al. 2021) Comparisons\n",
    "\n",
    "Runs the comparisons found in \n",
    "\n",
    "Zawada, D., Franssens, G., Loughman, R., Mikkonen, A., Rozanov, A., Emde, C., Bourassa, A., Dueck, S., Lindqvist, H., Ramon, D., Rozanov, V., Dekemper, E., Kyrölä, E., Burrows, J. P., Fussen, D., and Degenstein, D.: Systematic comparison of vectorial spherical radiative transfer models in limb scattering geometry, Atmos. Meas. Tech., 14, 3953–3972, https://doi.org/10.5194/amt-14-3953-2021, 2021.\n",
    "\n",
    "The input data and output data for this comparison is downloaded automatically from the zenodo reference at https://zenodo.org/records/4292303."
   ]
  },
  {
   "cell_type": "code",
   "execution_count": null,
   "metadata": {},
   "outputs": [],
   "source": [
    "import sasktran2 as sk\n",
    "import appdirs\n",
    "from pathlib import Path\n",
    "import shlex\n",
    "import xarray as xr\n",
    "import numpy as np\n",
    "\n",
    "\n",
    "def rtm_comparison_file():\n",
    "    data_dir = Path(appdirs.user_data_dir('sasktran2'))\n",
    "\n",
    "    if not data_dir.exists():\n",
    "        data_dir.mkdir(parents=True)\n",
    "\n",
    "    file = data_dir.joinpath('zawada_AMT_rtm_comparison_data_v1.nc')\n",
    "\n",
    "    if not file.exists():\n",
    "        from zenodo_get import zenodo_get\n",
    "        zenodo_get(shlex.split('--record 4292303 -o \"{}\"'.format(data_dir.as_posix())))\n",
    "\n",
    "    return file"
   ]
  },
  {
   "cell_type": "code",
   "execution_count": null,
   "metadata": {},
   "outputs": [],
   "source": [
    "def load_scenario(geometry_index: int, atmosphere_index: int, albedo_index: int, test_case: int,\n",
    "                  altitude_spacing: float=500):\n",
    "    rtm_file = rtm_comparison_file()\n",
    "\n",
    "    geo = xr.open_dataset(rtm_file, group='geometry_data')\n",
    "    anc = xr.open_dataset(rtm_file, group='ancillary_data')\n",
    "    model = xr.open_dataset(rtm_file, group='model_data')\n",
    "\n",
    "    albedo = float(model['albedo'].isel(albedo=albedo_index))\n",
    "    albedo = np.ones(len(model['wavelength'])) * albedo\n",
    "\n",
    "    geo = geo.isel(solar_condition=geometry_index)\n",
    "\n",
    "    anc = anc.interp(altitude=np.arange(0, 100001, altitude_spacing))\n",
    "\n",
    "    model = model.isel(solar=geometry_index, composition=atmosphere_index, albedo=albedo_index, test_case=test_case)\n",
    "\n",
    "    model_geo = sk.Geometry1D(np.cos(float(geo.tangent_sza) * np.pi/180), 0.0, 6371000, anc.altitude.values.astype(float), sk.InterpolationMethod.LinearInterpolation,\n",
    "                              sk.GeometryType.Spherical)\n",
    "\n",
    "\n",
    "    viewing_geo = sk.ViewingGeometry()\n",
    "\n",
    "    for alt in geo.tangent_altitude.values:\n",
    "        viewing_geo.add_ray(sk.TangentAltitudeSolar(alt*1000, float(geo.tangent_saa)*np.pi/180, 200000, np.cos(float(geo.tangent_sza) * np.pi/180)))\n",
    "\n",
    "    config = sk.Config()\n",
    "    config.num_stokes = 3\n",
    "\n",
    "    wavelengths_nm = anc.wavelength.values\n",
    "\n",
    "    # Add Rayleigh\n",
    "    atmo = sk.Atmosphere(model_geo, config, wavelengths_nm, calculate_derivatives=False)\n",
    "    atmo.pressure_pa = anc.pressure.values\n",
    "    atmo.temperature_k = anc.temperature.values\n",
    "\n",
    "    atmo[\"rayleigh\"] = sk.constituent.Rayleigh(\"manual\", {\"wavelength_nm\": wavelengths_nm, \"xs\": anc[\"rayleigh_scattering_cross_section\"].values*1e-4, \"king_factor\": np.ones_like(anc[\"rayleigh_scattering_cross_section\"].values)})\n",
    "\n",
    "    if atmosphere_index == 1:\n",
    "        # Add ozone\n",
    "        pass\n",
    "\n",
    "    if atmosphere_index == 2:\n",
    "        # Add aerosol\n",
    "        pass\n",
    "\n",
    "    config = sk.Config()\n",
    "    config.num_stokes = 3\n",
    "\n",
    "    return {'atmosphere': atmo, 'geometry': model_geo, 'config': config, 'result': model, 'viewinggeo': viewing_geo}\n"
   ]
  },
  {
   "cell_type": "code",
   "execution_count": null,
   "metadata": {},
   "outputs": [],
   "source": [
    "scen = load_scenario(2, 0, 0, 0, 500)\n",
    "\n",
    "engine = sk.Engine(scen[\"config\"], scen[\"geometry\"], scen[\"viewinggeo\"])\n",
    "\n",
    "radiance = engine.calculate_radiance(scen[\"atmosphere\"])"
   ]
  },
  {
   "cell_type": "markdown",
   "metadata": {},
   "source": []
  },
  {
   "cell_type": "code",
   "execution_count": null,
   "metadata": {},
   "outputs": [],
   "source": [
    "scen['result'] = scen['result'].isel(stokes=range(3))\n",
    "scen['result'][\"sasktran2\"] = ([\"wavelength\", \"altitude\", \"stokes\"], radiance[\"radiance\"].to_numpy())\n",
    "p_diff = (scen['result']['sasktran2'] - scen['result']['mmm']) / scen['result']['mmm'] * 100"
   ]
  },
  {
   "cell_type": "code",
   "execution_count": null,
   "metadata": {},
   "outputs": [],
   "source": [
    "for w in range(11):\n",
    "    p_diff.isel(stokes=0, wavelength=w).plot(y='altitude')"
   ]
  },
  {
   "cell_type": "code",
   "execution_count": null,
   "metadata": {},
   "outputs": [],
   "source": [
    "# array([70, 80, 80, 45, 60, 50, 10, 15, 35], dtype=int32)\n",
    "# array([ 30,  60, 150,  50,  70, 130,  20,  70,  90], dtype=int32)"
   ]
  },
  {
   "cell_type": "code",
   "execution_count": null,
   "metadata": {},
   "outputs": [],
   "source": [
    "scen['result']['radiance'].isel(model=2, stokes=2, wavelength=2).plot()\n",
    "scen['result']['sasktran2'].isel(stokes=2, wavelength=2).plot()"
   ]
  },
  {
   "cell_type": "code",
   "execution_count": null,
   "metadata": {},
   "outputs": [],
   "source": [
    "scen['result']['radiance'].isel(model=2, stokes=1, wavelength=2).plot()\n",
    "scen['result']['sasktran2'].isel(stokes=1, wavelength=2).plot()"
   ]
  },
  {
   "cell_type": "code",
   "execution_count": null,
   "metadata": {},
   "outputs": [],
   "source": []
  }
 ],
 "metadata": {
  "kernelspec": {
   "display_name": "pysasktran2-dev-build",
   "language": "python",
   "name": "python3"
  },
  "language_info": {
   "codemirror_mode": {
    "name": "ipython",
    "version": 3
   },
   "file_extension": ".py",
   "mimetype": "text/x-python",
   "name": "python",
   "nbconvert_exporter": "python",
   "pygments_lexer": "ipython3",
   "version": "3.11.5"
  }
 },
 "nbformat": 4,
 "nbformat_minor": 2
}
