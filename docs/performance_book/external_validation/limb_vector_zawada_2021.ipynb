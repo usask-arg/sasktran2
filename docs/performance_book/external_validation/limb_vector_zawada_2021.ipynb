{
 "cells": [
  {
   "cell_type": "markdown",
   "metadata": {},
   "source": [
    "# Limb Vector (Zawada et. al. 2021) Comparisons\n",
    "\n",
    "Runs the comparisons found in \n",
    "\n",
    "Zawada, D., Franssens, G., Loughman, R., Mikkonen, A., Rozanov, A., Emde, C., Bourassa, A., Dueck, S., Lindqvist, H., Ramon, D., Rozanov, V., Dekemper, E., Kyrölä, E., Burrows, J. P., Fussen, D., and Degenstein, D.: Systematic comparison of vectorial spherical radiative transfer models in limb scattering geometry, Atmos. Meas. Tech., 14, 3953–3972, https://doi.org/10.5194/amt-14-3953-2021, 2021.\n",
    "\n",
    "The input data and output data for this comparison is downloaded automatically from the zenodo reference at https://zenodo.org/records/4292303."
   ]
  },
  {
   "cell_type": "code",
   "execution_count": null,
   "metadata": {},
   "outputs": [],
   "source": [
    "import sasktran2 as sk\n",
    "import appdirs\n",
    "from pathlib import Path\n",
    "import shlex\n",
    "import xarray as xr\n",
    "import matplotlib.pyplot as plt\n",
    "import seaborn as sns\n",
    "import numpy as np\n",
    "import pandas as pd\n",
    "\n",
    "\n",
    "def rtm_comparison_file():\n",
    "    data_dir = Path(appdirs.user_data_dir('sasktran2'))\n",
    "\n",
    "    if not data_dir.exists():\n",
    "        data_dir.mkdir(parents=True)\n",
    "\n",
    "    file = data_dir.joinpath('zawada_AMT_rtm_comparison_data_v1.nc')\n",
    "\n",
    "    if not file.exists():\n",
    "        from zenodo_get import zenodo_get\n",
    "        zenodo_get(shlex.split('--record 4292303 -o \"{}\"'.format(data_dir.as_posix())))\n",
    "\n",
    "    return file"
   ]
  },
  {
   "cell_type": "code",
   "execution_count": null,
   "metadata": {},
   "outputs": [],
   "source": [
    "def load_scenario(geometry_index: int, atmosphere_index: int, albedo_index: int, test_case: int,\n",
    "                  altitude_spacing: float=500):\n",
    "    rtm_file = rtm_comparison_file()\n",
    "\n",
    "    geo = xr.open_dataset(rtm_file, group='geometry_data')\n",
    "    anc = xr.open_dataset(rtm_file, group='ancillary_data')\n",
    "    model = xr.open_dataset(rtm_file, group='model_data')\n",
    "\n",
    "    albedo = float(model['albedo'].isel(albedo=albedo_index))\n",
    "    albedo = np.ones(len(model['wavelength'])) * albedo\n",
    "\n",
    "    geo = geo.isel(solar_condition=geometry_index)\n",
    "\n",
    "    anc = anc.interp(altitude=np.arange(0, 100001, altitude_spacing))\n",
    "\n",
    "    model = model.isel(solar=geometry_index, composition=atmosphere_index, albedo=albedo_index, test_case=test_case)\n",
    "\n",
    "    model_geo = sk.Geometry1D(np.cos(float(geo.tangent_sza) * np.pi/180), 0.0, 6371000, anc.altitude.values.astype(float), sk.InterpolationMethod.LinearInterpolation,\n",
    "                              sk.GeometryType.Spherical)\n",
    "\n",
    "\n",
    "    viewing_geo = sk.ViewingGeometry()\n",
    "\n",
    "    for alt in geo.tangent_altitude.values:\n",
    "        viewing_geo.add_ray(sk.TangentAltitudeSolar(alt*1000, -float(geo.tangent_saa)*np.pi/180, 200000, np.cos(float(geo.tangent_sza) * np.pi/180)))\n",
    "\n",
    "    config = sk.Config()\n",
    "    config.num_stokes = 3\n",
    "\n",
    "    wavelengths_nm = anc.wavelength.values\n",
    "\n",
    "    # Add Rayleigh\n",
    "    atmo = sk.Atmosphere(model_geo, config, wavelengths_nm, calculate_derivatives=False)\n",
    "    atmo.pressure_pa = anc.pressure.values\n",
    "    atmo.temperature_k = anc.temperature.values\n",
    "\n",
    "    atmo[\"rayleigh\"] = sk.constituent.Rayleigh(\"manual\", {\"wavelength_nm\": wavelengths_nm, \"xs\": anc[\"rayleigh_scattering_cross_section\"].values*1e-4, \"king_factor\": np.ones_like(anc[\"rayleigh_scattering_cross_section\"].values)})\n",
    "\n",
    "    if atmosphere_index == 1:\n",
    "        # Add ozone\n",
    "        pass\n",
    "\n",
    "    if atmosphere_index == 2:\n",
    "        # Add aerosol\n",
    "        pass\n",
    "\n",
    "    return {'atmosphere': atmo, 'geometry': model_geo, 'config': config, 'result': model, 'viewinggeo': viewing_geo}\n"
   ]
  },
  {
   "cell_type": "markdown",
   "metadata": {},
   "source": [
    "## Test Case 1: Single Scatter"
   ]
  },
  {
   "cell_type": "code",
   "execution_count": null,
   "metadata": {},
   "outputs": [],
   "source": [
    "results = []\n",
    "\n",
    "for geo in range(9):\n",
    "    scen = load_scenario(geo, 0, 0, 0, 500)\n",
    "    engine = sk.Engine(scen[\"config\"], scen[\"geometry\"], scen[\"viewinggeo\"])\n",
    "    radiance = engine.calculate_radiance(scen[\"atmosphere\"])\n",
    "\n",
    "    scen['result'] = scen['result'].isel(stokes=range(3))\n",
    "    scen['result']['sasktran2'] = ([\"wavelength\", \"altitude\", \"stokes\"], radiance[\"radiance\"].to_numpy())\n",
    "\n",
    "    results.append(scen['result'])\n",
    "\n",
    "results = xr.concat(results, dim=\"geo\")\n"
   ]
  },
  {
   "cell_type": "code",
   "execution_count": null,
   "metadata": {},
   "outputs": [],
   "source": [
    "# MMM Differences\n",
    "# p_diff = (results['sasktran2'] - results['mmm']) / results['mmm'].isel(stokes=0) * 100\n",
    "\n",
    "# SCIATRAN Differences\n",
    "p_diff = (results['sasktran2'] - results['radiance'].isel(model=2)) / results['radiance'].isel(stokes=0, model=2) * 100"
   ]
  },
  {
   "cell_type": "code",
   "execution_count": null,
   "metadata": {},
   "outputs": [],
   "source": [
    "def vioplot(data):\n",
    "    alt_bins = np.arange(0, 81, 10)\n",
    "\n",
    "    all_res = []\n",
    "    cols = []\n",
    "    for iv, ds in data.stack(z={\"geo\", \"wavelength\"}).groupby_bins(\"altitude\", bins=alt_bins):\n",
    "        all_res.append(ds.values.flatten())\n",
    "\n",
    "        cols.append(f\"{iv.left} - {iv.right} km\")\n",
    "\n",
    "    all_res = np.vstack(all_res).T\n",
    "\n",
    "    sns.violinplot(pd.DataFrame(all_res[:, ::-1], columns=cols[::-1]), orient=\"h\", bw_adjust=2, cut=0)\n",
    "\n",
    "plt.figure(figsize=(8, 16))\n",
    "plt.subplot(3, 1, 1)\n",
    "vioplot(p_diff.isel(stokes=0))\n",
    "plt.xlim(-0.5, 0.5)\n",
    "plt.xlabel('Stokes I % Difference to MMM')\n",
    "\n",
    "plt.subplot(3, 1, 2)\n",
    "vioplot(p_diff.isel(stokes=1))\n",
    "plt.xlim(-0.5, 0.5)\n",
    "plt.xlabel('Stokes Q % Difference to MMM')\n",
    "plt.ylabel('')\n",
    "\n",
    "plt.subplot(3, 1, 3)\n",
    "vioplot(p_diff.isel(stokes=2))\n",
    "plt.xlim(-0.5, 0.5)\n",
    "plt.xlabel('Stokes U % Difference to MMM')\n",
    "plt.ylabel('')\n",
    "\n",
    "plt.tight_layout()"
   ]
  },
  {
   "cell_type": "markdown",
   "metadata": {},
   "source": [
    "## Test Case 2 - Multiple Scatter with Discrete Ordinates Source"
   ]
  },
  {
   "cell_type": "markdown",
   "metadata": {},
   "source": [
    "## "
   ]
  },
  {
   "cell_type": "code",
   "execution_count": null,
   "metadata": {},
   "outputs": [],
   "source": [
    "results = []\n",
    "\n",
    "for geo in range(0, 1):\n",
    "    scen = load_scenario(geo, 0, 0, 1, 1000)\n",
    "    scen[\"config\"].multiple_scatter_source = sk.MultipleScatterSource.DiscreteOrdinates\n",
    "    scen[\"config\"].num_sza = 1\n",
    "    scen[\"config\"].num_threads = 8\n",
    "\n",
    "    engine = sk.Engine(scen[\"config\"], scen[\"geometry\"], scen[\"viewinggeo\"])\n",
    "\n",
    "    radiance = engine.calculate_radiance(scen[\"atmosphere\"])\n",
    "\n",
    "    del engine\n",
    "\n",
    "    scen['result'] = scen['result'].isel(stokes=range(3))\n",
    "    scen['result']['sasktran2'] = ([\"wavelength\", \"altitude\", \"stokes\"], radiance[\"radiance\"].to_numpy())\n",
    "\n",
    "    results.append(scen['result'])\n",
    "\n",
    "results = xr.concat(results, dim=\"geo\")\n",
    "\n",
    "p_diff = (results['sasktran2'] - results['mmm']) / results['mmm'].isel(stokes=0) * 100\n",
    "\n",
    "plt.figure(figsize=(8, 16))\n",
    "plt.subplot(3, 1, 1)\n",
    "vioplot(p_diff.isel(stokes=0))\n",
    "plt.xlim(-5, 5)\n",
    "plt.xlabel('Stokes I % Difference to MMM')\n",
    "\n",
    "plt.subplot(3, 1, 2)\n",
    "vioplot(p_diff.isel(stokes=1))\n",
    "plt.xlim(-5, 5)\n",
    "plt.xlabel('Stokes Q % Difference to MMM')\n",
    "plt.ylabel('')\n",
    "\n",
    "plt.subplot(3, 1, 3)\n",
    "vioplot(p_diff.isel(stokes=2))\n",
    "plt.xlim(-5, 5)\n",
    "plt.xlabel('Stokes U % Difference to MMM')\n",
    "plt.ylabel('')\n",
    "\n",
    "plt.tight_layout()"
   ]
  },
  {
   "cell_type": "code",
   "execution_count": null,
   "metadata": {},
   "outputs": [],
   "source": [
    "results['sasktran2'].isel(geo=0, wavelength=2, stokes=1).plot()\n",
    "results['mmm'].isel(geo=0, wavelength=2, stokes=1).plot()"
   ]
  }
 ],
 "metadata": {
  "kernelspec": {
   "display_name": "pysasktran2-dev-build",
   "language": "python",
   "name": "python3"
  },
  "language_info": {
   "codemirror_mode": {
    "name": "ipython",
    "version": 3
   },
   "file_extension": ".py",
   "mimetype": "text/x-python",
   "name": "python",
   "nbconvert_exporter": "python",
   "pygments_lexer": "ipython3",
   "version": "3.11.5"
  }
 },
 "nbformat": 4,
 "nbformat_minor": 2
}
