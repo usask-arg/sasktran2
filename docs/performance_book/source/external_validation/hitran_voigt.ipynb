{
 "cells": [
  {
   "cell_type": "markdown",
   "metadata": {},
   "source": [
    "# Validates the SASKTRAN2 Voigt line broadening against the HITRAN API"
   ]
  },
  {
   "cell_type": "code",
   "execution_count": 4,
   "metadata": {},
   "outputs": [],
   "source": [
    "import sasktran2 as sk\n",
    "import numpy as np\n",
    "import hapi\n",
    "import matplotlib.pyplot as plt\n",
    "\n",
    "pressures = np.array([101325, 10000, 10])\n",
    "temperatures = np.array([280, 270, 260])"
   ]
  },
  {
   "cell_type": "code",
   "execution_count": 9,
   "metadata": {},
   "outputs": [
    {
     "data": {
      "text/plain": [
       "(100000, 3)"
      ]
     },
     "execution_count": 9,
     "metadata": {},
     "output_type": "execute_result"
    }
   ],
   "source": [
    "molecule = \"H2O\"\n",
    "wavenumber =  np.arange(7000, 8000, 0.01)\n",
    "\n",
    "sk2_xs = sk.optical.HITRANAbsorber(molecule).cross_sections(1e7 / wavenumber, np.ones_like(pressures), temperature_k=temperatures, pressure_pa=pressures, num_threads=1)\n",
    "\n",
    "sk2_xs.shape"
   ]
  },
  {
   "cell_type": "code",
   "execution_count": 12,
   "metadata": {},
   "outputs": [
    {
     "name": "stdout",
     "output_type": "stream",
     "text": [
      "                     Lines parsed: 486258\n",
      "{'air': 1.0}\n",
      "8.406902 seconds elapsed for abscoef; nlines = 30301\n",
      "{'air': 1.0}\n",
      "8.365512 seconds elapsed for abscoef; nlines = 30301\n",
      "{'air': 1.0}\n",
      "8.331525 seconds elapsed for abscoef; nlines = 30301\n"
     ]
    }
   ],
   "source": [
    "# Do the HITRAN calculation\n",
    "line_db = sk.database.HITRANLineDatabase()\n",
    "line_db.initialize_hapi(molecule)\n",
    "\n",
    "hapi.select(\n",
    "    molecule,\n",
    "    DestinationTableName=\"spectral_window\",\n",
    "    Conditions=(\n",
    "        \"between\",\n",
    "        \"nu\",\n",
    "        wavenumber[0] - 10,\n",
    "        wavenumber[-1] + 10,\n",
    "    ),\n",
    ")\n",
    "\n",
    "xs_hapi = np.zeros_like(sk2_xs)\n",
    "\n",
    "for i, (P, T) in enumerate(zip(pressures, temperatures)):\n",
    "    _, xs = hapi.absorptionCoefficient_Voigt(\n",
    "        SourceTables=\"spectral_window\",\n",
    "        Environment={\"T\": T, \"p\": P / 101325.0},\n",
    "        WavenumberGrid=wavenumber.tolist(),\n",
    "        WavenumberWing=10,\n",
    "    )\n",
    "    xs_hapi[:, i] = xs / 1e4\n"
   ]
  },
  {
   "cell_type": "code",
   "execution_count": 20,
   "metadata": {},
   "outputs": [
    {
     "name": "stdout",
     "output_type": "stream",
     "text": [
      "Mean Error:  0.0006037367899750745 %\n",
      "Std Error:  0.0006198262369700701 %\n",
      "Mean Error:  0.000806210998993587 %\n",
      "Std Error:  0.0007226351425375043 %\n",
      "Mean Error:  0.0011293099067711146 %\n",
      "Std Error:  0.0008208076129146743 %\n"
     ]
    }
   ],
   "source": [
    "for i in range(len(pressures)):\n",
    "    print(\"Mean Error: \", np.mean(np.abs((sk2_xs[:, i] - xs_hapi[:, i]) / xs_hapi[:, i] * 100)), \"%\")\n",
    "    print(\"Std Error: \", np.std(np.abs((sk2_xs[:, i] - xs_hapi[:, i]) / xs_hapi[:, i] * 100)), \"%\")"
   ]
  },
  {
   "cell_type": "markdown",
   "metadata": {},
   "source": []
  }
 ],
 "metadata": {
  "kernelspec": {
   "display_name": "default",
   "language": "python",
   "name": "python3"
  },
  "language_info": {
   "codemirror_mode": {
    "name": "ipython",
    "version": 3
   },
   "file_extension": ".py",
   "mimetype": "text/x-python",
   "name": "python",
   "nbconvert_exporter": "python",
   "pygments_lexer": "ipython3",
   "version": "3.12.8"
  }
 },
 "nbformat": 4,
 "nbformat_minor": 2
}
