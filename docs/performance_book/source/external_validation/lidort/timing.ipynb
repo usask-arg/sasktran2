{
 "cells": [
  {
   "cell_type": "code",
   "execution_count": 8,
   "metadata": {},
   "outputs": [],
   "source": [
    "import sasktran2 as sk\n",
    "import numpy as np\n",
    "import xarray as xr\n",
    "import seaborn as sns\n",
    "import pylidort\n",
    "import matplotlib.pyplot as plt\n",
    "\n",
    "colors = sns.color_palette('colorblind')\n",
    "\n",
    "def time_sk2(nlyr, nstr, deriv=False):\n",
    "\n",
    "    cos_sza = 0.6\n",
    "\n",
    "    top_alt = 100001\n",
    "    tau = 1\n",
    "\n",
    "    config = sk.Config()\n",
    "    config.multiple_scatter_source = sk.MultipleScatterSource.DiscreteOrdinates\n",
    "    config.single_scatter_source = sk.SingleScatterSource.DiscreteOrdinates\n",
    "    config.init_successive_orders_with_discrete_ordinates = False\n",
    "    config.num_successive_orders_iterations = 50\n",
    "    config.num_successive_orders_outgoing = 110\n",
    "    config.num_successive_orders_incoming = 110\n",
    "    config.num_forced_azimuth = 2\n",
    "\n",
    "    # config.single_scatter_source = sk.SingleScatterSource.NoSource\n",
    "    config.num_stokes = 1\n",
    "    config.num_streams = nstr\n",
    "    config.num_singlescatter_moments = 40\n",
    "    config.do_backprop = False\n",
    "\n",
    "    model_geometry = sk.Geometry1D(cos_sza=cos_sza,\n",
    "                                    solar_azimuth=0,\n",
    "                                    earth_radius_m=63720000,\n",
    "                                    altitude_grid_m=np.linspace(0, top_alt, nlyr+1, endpoint=True),\n",
    "                                    interpolation_method=sk.InterpolationMethod.LinearInterpolation,\n",
    "                                    geometry_type=sk.GeometryType.PlaneParallel)\n",
    "\n",
    "    viewing_geo = sk.ViewingGeometry()\n",
    "\n",
    "    ray = sk.GroundViewingSolar(cos_sza, 0, 1, top_alt*2)\n",
    "    viewing_geo.add_ray(ray)\n",
    "\n",
    "    atmosphere = sk.Atmosphere(model_geometry, config, calculate_derivatives=deriv, numwavel=100, legendre_derivative=False)\n",
    "\n",
    "\n",
    "    atmosphere.storage.total_extinction[:] = tau / top_alt\n",
    "    atmosphere.storage.ssa[:] = 1\n",
    "\n",
    "    atmosphere.leg_coeff.a1[0, :, :] = 1\n",
    "    atmosphere.leg_coeff.a1[2, :, :] = 0.5\n",
    "\n",
    "    atmosphere.surface.albedo[:] = 0\n",
    "\n",
    "    engine = sk.Engine(config, model_geometry, viewing_geo)\n",
    "    result = %timeit -o -r 1 engine.calculate_radiance(atmosphere)\n",
    "\n",
    "    return result\n",
    "\n",
    "def time_lidort(nlyr, nstr, deriv=False):\n",
    "    fixed = pylidort.FixedInputs()\n",
    "    modified = pylidort.ModifiedInputs()\n",
    "\n",
    "    fixed_lin = pylidort.FixedLinInputs()\n",
    "    modified_lin = pylidort.ModifiedLinInputs()\n",
    "\n",
    "    fixed.Cont.TS_LIDORT_ACCURACY = 1e99\n",
    "\n",
    "    modified_lin.MCont.TS_DO_LINEARIZATION = deriv\n",
    "    modified_lin.MCont.TS_DO_PROFILE_LINEARIZATION = deriv\n",
    "\n",
    "    fixed_lin.Optical.TS_L_DELTAU_VERT_INPUT[:] = 1\n",
    "    fixed_lin.Cont.TS_LAYER_VARY_FLAG[:] = deriv\n",
    "    if deriv:\n",
    "        fixed_lin.Cont.TS_LAYER_VARY_NUMBER[:] = 2\n",
    "    else:\n",
    "        fixed_lin.Cont.TS_LAYER_VARY_NUMBER[:] = 0\n",
    "\n",
    "    fixed.Optical.TS_DELTAU_VERT_INPUT[:] = 0.01\n",
    "    modified.MOptical.TS_OMEGA_TOTAL_INPUT[:] = 0.9\n",
    "\n",
    "    fixed.Cont.TS_NLAYERS = nlyr\n",
    "    fixed.Cont.TS_NSTREAMS = nstr/2\n",
    "\n",
    "    modified.MUserVal.TS_USER_OBSGEOMS_INPUT[0, :] = (30.0, 20.0, 0.0)\n",
    "\n",
    "\n",
    "    fixed.Optical.TS_PHASMOMS_TOTAL_INPUT[0, :] = 1.0\n",
    "    fixed.Optical.TS_PHASMOMS_TOTAL_INPUT[2, :] = 0.5\n",
    "\n",
    "    result = %timeit -o -r 1 pylidort.run_lidort(fixed=fixed, modified=modified, fixed_lin=fixed_lin, modified_lin=modified_lin, num_repeat=100)\n",
    "    return result\n"
   ]
  },
  {
   "cell_type": "code",
   "execution_count": 5,
   "metadata": {},
   "outputs": [
    {
     "name": "stdout",
     "output_type": "stream",
     "text": [
      "12.1 ms ± 0 ns per loop (mean ± std. dev. of 1 run, 100 loops each)\n",
      "16.4 ms ± 0 ns per loop (mean ± std. dev. of 1 run, 100 loops each)\n",
      "29.3 ms ± 0 ns per loop (mean ± std. dev. of 1 run, 10 loops each)\n",
      "29.3 ms ± 0 ns per loop (mean ± std. dev. of 1 run, 10 loops each)\n",
      "70.8 ms ± 0 ns per loop (mean ± std. dev. of 1 run, 10 loops each)\n",
      "56.9 ms ± 0 ns per loop (mean ± std. dev. of 1 run, 10 loops each)\n",
      "107 ms ± 0 ns per loop (mean ± std. dev. of 1 run, 10 loops each)\n",
      "101 ms ± 0 ns per loop (mean ± std. dev. of 1 run, 10 loops each)\n",
      "158 ms ± 0 ns per loop (mean ± std. dev. of 1 run, 10 loops each)\n",
      "146 ms ± 0 ns per loop (mean ± std. dev. of 1 run, 10 loops each)\n",
      "201 ms ± 0 ns per loop (mean ± std. dev. of 1 run, 1 loop each)\n",
      "206 ms ± 0 ns per loop (mean ± std. dev. of 1 run, 1 loop each)\n",
      "276 ms ± 0 ns per loop (mean ± std. dev. of 1 run, 1 loop each)\n",
      "280 ms ± 0 ns per loop (mean ± std. dev. of 1 run, 1 loop each)\n",
      "348 ms ± 0 ns per loop (mean ± std. dev. of 1 run, 1 loop each)\n",
      "365 ms ± 0 ns per loop (mean ± std. dev. of 1 run, 1 loop each)\n",
      "458 ms ± 0 ns per loop (mean ± std. dev. of 1 run, 1 loop each)\n",
      "469 ms ± 0 ns per loop (mean ± std. dev. of 1 run, 1 loop each)\n",
      "565 ms ± 0 ns per loop (mean ± std. dev. of 1 run, 1 loop each)\n",
      "581 ms ± 0 ns per loop (mean ± std. dev. of 1 run, 1 loop each)\n",
      "634 ms ± 0 ns per loop (mean ± std. dev. of 1 run, 1 loop each)\n",
      "705 ms ± 0 ns per loop (mean ± std. dev. of 1 run, 1 loop each)\n",
      "725 ms ± 0 ns per loop (mean ± std. dev. of 1 run, 1 loop each)\n",
      "847 ms ± 0 ns per loop (mean ± std. dev. of 1 run, 1 loop each)\n",
      "900 ms ± 0 ns per loop (mean ± std. dev. of 1 run, 1 loop each)\n",
      "1.03 s ± 0 ns per loop (mean ± std. dev. of 1 run, 1 loop each)\n",
      "1.04 s ± 0 ns per loop (mean ± std. dev. of 1 run, 1 loop each)\n",
      "1.19 s ± 0 ns per loop (mean ± std. dev. of 1 run, 1 loop each)\n",
      "1.25 s ± 0 ns per loop (mean ± std. dev. of 1 run, 1 loop each)\n",
      "1.41 s ± 0 ns per loop (mean ± std. dev. of 1 run, 1 loop each)\n",
      "48.2 ms ± 0 ns per loop (mean ± std. dev. of 1 run, 10 loops each)\n",
      "303 ms ± 0 ns per loop (mean ± std. dev. of 1 run, 1 loop each)\n",
      "100 ms ± 0 ns per loop (mean ± std. dev. of 1 run, 10 loops each)\n",
      "520 ms ± 0 ns per loop (mean ± std. dev. of 1 run, 1 loop each)\n",
      "201 ms ± 0 ns per loop (mean ± std. dev. of 1 run, 10 loops each)\n",
      "808 ms ± 0 ns per loop (mean ± std. dev. of 1 run, 1 loop each)\n",
      "297 ms ± 0 ns per loop (mean ± std. dev. of 1 run, 1 loop each)\n",
      "1.2 s ± 0 ns per loop (mean ± std. dev. of 1 run, 1 loop each)\n",
      "404 ms ± 0 ns per loop (mean ± std. dev. of 1 run, 1 loop each)\n",
      "1.8 s ± 0 ns per loop (mean ± std. dev. of 1 run, 1 loop each)\n",
      "541 ms ± 0 ns per loop (mean ± std. dev. of 1 run, 1 loop each)\n",
      "2.51 s ± 0 ns per loop (mean ± std. dev. of 1 run, 1 loop each)\n",
      "728 ms ± 0 ns per loop (mean ± std. dev. of 1 run, 1 loop each)\n",
      "2.87 s ± 0 ns per loop (mean ± std. dev. of 1 run, 1 loop each)\n",
      "919 ms ± 0 ns per loop (mean ± std. dev. of 1 run, 1 loop each)\n",
      "3.58 s ± 0 ns per loop (mean ± std. dev. of 1 run, 1 loop each)\n",
      "1.15 s ± 0 ns per loop (mean ± std. dev. of 1 run, 1 loop each)\n",
      "3.94 s ± 0 ns per loop (mean ± std. dev. of 1 run, 1 loop each)\n",
      "1.47 s ± 0 ns per loop (mean ± std. dev. of 1 run, 1 loop each)\n",
      "4.24 s ± 0 ns per loop (mean ± std. dev. of 1 run, 1 loop each)\n",
      "1.69 s ± 0 ns per loop (mean ± std. dev. of 1 run, 1 loop each)\n",
      "4.69 s ± 0 ns per loop (mean ± std. dev. of 1 run, 1 loop each)\n",
      "2 s ± 0 ns per loop (mean ± std. dev. of 1 run, 1 loop each)\n",
      "5.4 s ± 0 ns per loop (mean ± std. dev. of 1 run, 1 loop each)\n",
      "2.36 s ± 0 ns per loop (mean ± std. dev. of 1 run, 1 loop each)\n",
      "6.28 s ± 0 ns per loop (mean ± std. dev. of 1 run, 1 loop each)\n",
      "2.79 s ± 0 ns per loop (mean ± std. dev. of 1 run, 1 loop each)\n",
      "7.44 s ± 0 ns per loop (mean ± std. dev. of 1 run, 1 loop each)\n",
      "3.36 s ± 0 ns per loop (mean ± std. dev. of 1 run, 1 loop each)\n",
      "8.43 s ± 0 ns per loop (mean ± std. dev. of 1 run, 1 loop each)\n"
     ]
    },
    {
     "data": {
      "text/plain": [
       "Text(0, 0.5, 'SASKTRAN2 / LIDORT time')"
      ]
     },
     "execution_count": 5,
     "metadata": {},
     "output_type": "execute_result"
    },
    {
     "data": {
      "image/png": "[encoded data removed]",
      "text/plain": [
       "<Figure size 640x480 with 1 Axes>"
      ]
     },
     "metadata": {},
     "output_type": "display_data"
    }
   ],
   "source": [
    "\n",
    "for nlyr in [100]:\n",
    "    for deriv in [False, True]:\n",
    "        streams = np.arange(2, 32, 2)\n",
    "        sk2_t = np.zeros(len(streams))\n",
    "        lidort_t = np.zeros(len(streams))\n",
    "\n",
    "        for i, ns in enumerate(streams):\n",
    "            sk2_t[i] = time_sk2(nlyr, ns, deriv).average\n",
    "            lidort_t[i] = time_lidort(nlyr, ns, deriv).average\n",
    "\n",
    "        plt.plot(streams, sk2_t / lidort_t, label=f\"Deriv={deriv} nlyr={nlyr}\")\n",
    "\n",
    "plt.legend()\n",
    "plt.xlabel(\"Number of streams\")\n",
    "plt.ylabel(\"SASKTRAN2 / LIDORT time\")"
   ]
  },
  {
   "cell_type": "code",
   "execution_count": null,
   "metadata": {},
   "outputs": [
    {
     "data": {
      "text/plain": [
       "array([0.0223797 , 0.29097287, 0.90317067, 1.87306367, 3.80799733])"
      ]
     },
     "execution_count": 3,
     "metadata": {},
     "output_type": "execute_result"
    }
   ],
   "source": [
    "sk2_t"
   ]
  },
  {
   "cell_type": "code",
   "execution_count": null,
   "metadata": {},
   "outputs": [
    {
     "ename": "",
     "evalue": "",
     "output_type": "error",
     "traceback": [
      "\u001b[1;31mThe Kernel crashed while executing code in the current cell or a previous cell. \n",
      "\u001b[1;31mPlease review the code in the cell(s) to identify a possible cause of the failure. \n",
      "\u001b[1;31mClick <a href='https://aka.ms/vscodeJupyterKernelCrash'>here</a> for more info. \n",
      "\u001b[1;31mView Jupyter <a href='command:jupyter.viewOutput'>log</a> for further details."
     ]
    }
   ],
   "source": [
    "time_sk2(200, 40, True)"
   ]
  },
  {
   "cell_type": "code",
   "execution_count": 9,
   "metadata": {},
   "outputs": [
    {
     "name": "stdout",
     "output_type": "stream",
     "text": [
      "58.4 ms ± 0 ns per loop (mean ± std. dev. of 1 run, 10 loops each)\n"
     ]
    },
    {
     "data": {
      "text/plain": [
       "<TimeitResult : 58.4 ms ± 0 ns per loop (mean ± std. dev. of 1 run, 10 loops each)>"
      ]
     },
     "execution_count": 9,
     "metadata": {},
     "output_type": "execute_result"
    }
   ],
   "source": [
    "time_sk2(100, 2, True)"
   ]
  },
  {
   "cell_type": "code",
   "execution_count": 2,
   "metadata": {},
   "outputs": [
    {
     "name": "stdout",
     "output_type": "stream",
     "text": [
      "3.61 s ± 0 ns per loop (mean ± std. dev. of 1 run, 1 loop each)\n"
     ]
    },
    {
     "data": {
      "text/plain": [
       "<TimeitResult : 3.61 s ± 0 ns per loop (mean ± std. dev. of 1 run, 1 loop each)>"
      ]
     },
     "execution_count": 2,
     "metadata": {},
     "output_type": "execute_result"
    }
   ],
   "source": [
    "time_lidort(100, 16, True)"
   ]
  },
  {
   "cell_type": "code",
   "execution_count": null,
   "metadata": {},
   "outputs": [],
   "source": []
  }
 ],
 "metadata": {
  "kernelspec": {
   "display_name": "pysasktran2-dev-build",
   "language": "python",
   "name": "python3"
  },
  "language_info": {
   "codemirror_mode": {
    "name": "ipython",
    "version": 3
   },
   "file_extension": ".py",
   "mimetype": "text/x-python",
   "name": "python",
   "nbconvert_exporter": "python",
   "pygments_lexer": "ipython3",
   "version": "3.11.5"
  }
 },
 "nbformat": 4,
 "nbformat_minor": 2
}
